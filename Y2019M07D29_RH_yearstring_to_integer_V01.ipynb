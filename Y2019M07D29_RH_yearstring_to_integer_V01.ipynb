{
  "nbformat": 4,
  "nbformat_minor": 0,
  "metadata": {
    "colab": {
      "name": "Untitled4.ipynb",
      "version": "0.3.2",
      "provenance": [],
      "include_colab_link": true
    },
    "kernelspec": {
      "name": "python3",
      "display_name": "Python 3"
    }
  },
  "cells": [
    {
      "cell_type": "markdown",
      "metadata": {
        "id": "view-in-github",
        "colab_type": "text"
      },
      "source": [
        "<a href=\"https://colab.research.google.com/github/rutgerhofste/hyde/blob/master/Y2019M07D29_RH_yearstring_to_integer_V01.ipynb\" target=\"_parent\"><img src=\"https://colab.research.google.com/assets/colab-badge.svg\" alt=\"Open In Colab\"/></a>"
      ]
    },
    {
      "cell_type": "markdown",
      "metadata": {
        "id": "-8cNk64E8qMY",
        "colab_type": "text"
      },
      "source": [
        "The period covered is 10 000 BCE to 2015 CE\n",
        "\n",
        "Time intervals are 1000 yr for the BCE period, then 100 yr till 1700, 10 yr till 2000, and from 2000 - 2015 (n.b. probably typo, data available until 2017) 1 year timesteps.\n",
        "\n",
        "\n",
        "\n"
      ]
    },
    {
      "cell_type": "code",
      "metadata": {
        "id": "Nk7Xf7wn81d9",
        "colab_type": "code",
        "colab": {}
      },
      "source": [
        "Y_BCE = list(range(-10000,0,1000))\n",
        "Y_BCE_1700 = list(range(0,1700,100))\n",
        "Y_1700_2000 = list(range(1700,2000,10))\n",
        "Y_2000_2017 = list(range(2000,2017+1,1))"
      ],
      "execution_count": 0,
      "outputs": []
    },
    {
      "cell_type": "code",
      "metadata": {
        "id": "9oVztgim9AS_",
        "colab_type": "code",
        "colab": {}
      },
      "source": [
        "years = Y_BCE + Y_BCE_1700 + Y_1700_2000 + Y_2000_2015"
      ],
      "execution_count": 0,
      "outputs": []
    },
    {
      "cell_type": "code",
      "metadata": {
        "id": "6d0MyK1W9CHT",
        "colab_type": "code",
        "colab": {}
      },
      "source": [
        "def numeric_to_string(year):\n",
        "  \"\"\"\n",
        "  Convert numeric year to string\n",
        "  \"\"\"\n",
        "  if year < 0 :\n",
        "    yearstring = \"{}BC\".format(year*-1)\n",
        "  elif year >= 0:\n",
        "    yearstring = \"{}AD\".format(year)\n",
        "  else:\n",
        "    raise\n",
        "  return yearstring"
      ],
      "execution_count": 0,
      "outputs": []
    },
    {
      "cell_type": "code",
      "metadata": {
        "id": "SH9lPrKQ9n0a",
        "colab_type": "code",
        "colab": {}
      },
      "source": [
        "year_strings = map(numeric_to_string,years)"
      ],
      "execution_count": 0,
      "outputs": []
    },
    {
      "cell_type": "code",
      "metadata": {
        "id": "sDa69Nn2-bJ8",
        "colab_type": "code",
        "colab": {}
      },
      "source": [
        "years_dict =  dict(zip(year_strings ,years))"
      ],
      "execution_count": 0,
      "outputs": []
    },
    {
      "cell_type": "code",
      "metadata": {
        "id": "ABh_UfMK-g7s",
        "colab_type": "code",
        "outputId": "ece6b100-81eb-4ccb-c8f5-1ad13ddc5060",
        "colab": {
          "base_uri": "https://localhost:8080/",
          "height": 1000
        }
      },
      "source": [
        "years_dict"
      ],
      "execution_count": 0,
      "outputs": [
        {
          "output_type": "execute_result",
          "data": {
            "text/plain": [
              "{'0AD': 0,\n",
              " '10000BC': -10000,\n",
              " '1000AD': 1000,\n",
              " '1000BC': -1000,\n",
              " '100AD': 100,\n",
              " '1100AD': 1100,\n",
              " '1200AD': 1200,\n",
              " '1300AD': 1300,\n",
              " '1400AD': 1400,\n",
              " '1500AD': 1500,\n",
              " '1600AD': 1600,\n",
              " '1700AD': 1700,\n",
              " '1710AD': 1710,\n",
              " '1720AD': 1720,\n",
              " '1730AD': 1730,\n",
              " '1740AD': 1740,\n",
              " '1750AD': 1750,\n",
              " '1760AD': 1760,\n",
              " '1770AD': 1770,\n",
              " '1780AD': 1780,\n",
              " '1790AD': 1790,\n",
              " '1800AD': 1800,\n",
              " '1810AD': 1810,\n",
              " '1820AD': 1820,\n",
              " '1830AD': 1830,\n",
              " '1840AD': 1840,\n",
              " '1850AD': 1850,\n",
              " '1860AD': 1860,\n",
              " '1870AD': 1870,\n",
              " '1880AD': 1880,\n",
              " '1890AD': 1890,\n",
              " '1900AD': 1900,\n",
              " '1910AD': 1910,\n",
              " '1920AD': 1920,\n",
              " '1930AD': 1930,\n",
              " '1940AD': 1940,\n",
              " '1950AD': 1950,\n",
              " '1960AD': 1960,\n",
              " '1970AD': 1970,\n",
              " '1980AD': 1980,\n",
              " '1990AD': 1990,\n",
              " '2000AD': 2000,\n",
              " '2000BC': -2000,\n",
              " '2001AD': 2001,\n",
              " '2002AD': 2002,\n",
              " '2003AD': 2003,\n",
              " '2004AD': 2004,\n",
              " '2005AD': 2005,\n",
              " '2006AD': 2006,\n",
              " '2007AD': 2007,\n",
              " '2008AD': 2008,\n",
              " '2009AD': 2009,\n",
              " '200AD': 200,\n",
              " '2010AD': 2010,\n",
              " '2011AD': 2011,\n",
              " '2012AD': 2012,\n",
              " '2013AD': 2013,\n",
              " '2014AD': 2014,\n",
              " '2015AD': 2015,\n",
              " '3000BC': -3000,\n",
              " '300AD': 300,\n",
              " '4000BC': -4000,\n",
              " '400AD': 400,\n",
              " '5000BC': -5000,\n",
              " '500AD': 500,\n",
              " '6000BC': -6000,\n",
              " '600AD': 600,\n",
              " '7000BC': -7000,\n",
              " '700AD': 700,\n",
              " '8000BC': -8000,\n",
              " '800AD': 800,\n",
              " '9000BC': -9000,\n",
              " '900AD': 900}"
            ]
          },
          "metadata": {
            "tags": []
          },
          "execution_count": 23
        }
      ]
    },
    {
      "cell_type": "code",
      "metadata": {
        "id": "0RBVtygO-uXm",
        "colab_type": "code",
        "colab": {}
      },
      "source": [
        ""
      ],
      "execution_count": 0,
      "outputs": []
    }
  ]
}