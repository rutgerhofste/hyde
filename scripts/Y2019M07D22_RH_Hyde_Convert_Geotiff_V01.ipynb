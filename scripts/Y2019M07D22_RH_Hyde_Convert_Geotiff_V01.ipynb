{
 "cells": [
  {
   "cell_type": "code",
   "execution_count": 1,
   "metadata": {},
   "outputs": [
    {
     "name": "stdout",
     "output_type": "stream",
     "text": [
      "gs://aqueduct30_v01/Y2019M07D22_RH_Hyde_Convert_Geotiff_V01/output_V01/ s3://wri-projects/Aqueduct30/processData/Y2019M07D22_RH_Hyde_Convert_Geotiff_V01/output_V01/\n"
     ]
    }
   ],
   "source": [
    "\"\"\" Convert hyde asc rasters to geotiff\n",
    "-------------------------------------------------------------------------------\n",
    "\n",
    "\n",
    "Author: Rutger Hofste\n",
    "Date: 20190722\n",
    "Kernel: python35\n",
    "Docker: rutgerhofste/gisdocker:ubuntu16.04\n",
    "\n",
    "\"\"\"\n",
    "\n",
    "\n",
    "SCRIPT_NAME = \"Y2019M07D22_RH_Hyde_Convert_Geotiff_V01\"\n",
    "OUTPUT_VERSION = 1\n",
    "\n",
    "S3_INPUT_PATH = \"s3://wri-projects/Aqueduct30/rawData/Hyde/hyde3.2/baseline/unzipped/\"\n",
    "\n",
    "ec2_input_path = \"/volumes/data/{}/input_V{:02.0f}/\".format(SCRIPT_NAME,OUTPUT_VERSION)\n",
    "ec2_output_path = \"/volumes/data/{}/output_V{:02.0f}/\".format(SCRIPT_NAME,OUTPUT_VERSION)\n",
    "\n",
    "s3_output_path = \"s3://wri-projects/Aqueduct30/processData/{}/output_V{:02.0f}/\".format(SCRIPT_NAME,OUTPUT_VERSION)\n",
    "\n",
    "gcs_output_path = \"gs://aqueduct30_v01/{}/output_V{:02.0f}/\".format(SCRIPT_NAME,OUTPUT_VERSION)\n",
    "\n",
    "print(gcs_output_path,s3_output_path)"
   ]
  },
  {
   "cell_type": "code",
   "execution_count": 2,
   "metadata": {},
   "outputs": [
    {
     "name": "stdout",
     "output_type": "stream",
     "text": [
      "Y2019M07D22 UTC 12:35\n"
     ]
    },
    {
     "data": {
      "text/plain": [
       "'3.5.4 |Anaconda, Inc.| (default, Nov 20 2017, 18:44:38) \\n[GCC 7.2.0]'"
      ]
     },
     "execution_count": 2,
     "metadata": {},
     "output_type": "execute_result"
    }
   ],
   "source": [
    "import time, datetime, sys\n",
    "dateString = time.strftime(\"Y%YM%mD%d\")\n",
    "timeString = time.strftime(\"UTC %H:%M\")\n",
    "start = datetime.datetime.now()\n",
    "print(dateString,timeString)\n",
    "sys.version"
   ]
  },
  {
   "cell_type": "code",
   "execution_count": 3,
   "metadata": {},
   "outputs": [],
   "source": [
    "#!rm -r {ec2_input_path}\n",
    "!rm -r {ec2_output_path}\n",
    "\n",
    "!mkdir -p {ec2_input_path}\n",
    "!mkdir -p {ec2_output_path}"
   ]
  },
  {
   "cell_type": "code",
   "execution_count": 4,
   "metadata": {
    "collapsed": true
   },
   "outputs": [],
   "source": [
    "import os\n",
    "import rasterio\n",
    "from tqdm import tqdm"
   ]
  },
  {
   "cell_type": "code",
   "execution_count": 5,
   "metadata": {},
   "outputs": [],
   "source": [
    "!aws s3 sync {S3_INPUT_PATH} {ec2_input_path} "
   ]
  },
  {
   "cell_type": "code",
   "execution_count": 6,
   "metadata": {},
   "outputs": [],
   "source": [
    "paths = []\n",
    "for root, dirs, files in os.walk(ec2_input_path):\n",
    "    for file in files:\n",
    "        if file.endswith(\".asc\"):\n",
    "             paths.append(os.path.join(root, file))"
   ]
  },
  {
   "cell_type": "code",
   "execution_count": 7,
   "metadata": {
    "collapsed": true
   },
   "outputs": [],
   "source": [
    "def raster_to_geotiff(src_path,dst_path):\n",
    "    \"\"\" Opens a rasterio single band raster and \n",
    "    converts to LZW compressed geotiff. \n",
    "    \n",
    "    dType and projection are preserved.\n",
    "    \n",
    "    Args:\n",
    "        src_path(string): input file path.\n",
    "        dst_path(string): output file path.\n",
    "    \n",
    "    \"\"\"\n",
    "    with rasterio.open(src_path) as src:\n",
    "        profile = src.profile\n",
    "        profile.update(nodata=-9999,\n",
    "                       compress='lzw')\n",
    "        \n",
    "        if src.crs is None:\n",
    "            crs = rasterio.crs.CRS.from_dict(init='epsg:4326')\n",
    "        else:\n",
    "            crs = src.crs\n",
    "        \n",
    "        with rasterio.open(\n",
    "            dst_path,\n",
    "            'w',\n",
    "            driver='GTiff',\n",
    "            height=src.height,\n",
    "            width=src.width,\n",
    "            count=1,\n",
    "            dtype=src.dtypes[0],\n",
    "            crs=crs,\n",
    "            nodata = src.nodata,\n",
    "            transform=src.transform,\n",
    "        ) as dst:\n",
    "            dst.write(src.read(1), 1)\n",
    "    return dst_path"
   ]
  },
  {
   "cell_type": "code",
   "execution_count": null,
   "metadata": {},
   "outputs": [
    {
     "name": "stderr",
     "output_type": "stream",
     "text": [
      " 19%|█▉        | 242/1275 [07:41<53:29,  3.11s/it]  "
     ]
    }
   ],
   "source": [
    "for path in tqdm(paths):\n",
    "    input_filename = path.split(\"/\")[-1]\n",
    "    base_filename, input_extension = input_filename.split(\".\")\n",
    "    output_filename = base_filename + \".tif\"\n",
    "    output_path = ec2_output_path + output_filename\n",
    "    raster_to_geotiff(path,output_path)"
   ]
  },
  {
   "cell_type": "code",
   "execution_count": null,
   "metadata": {},
   "outputs": [],
   "source": [
    "!gsutil -m cp -r \\\n",
    "{ec2_output_path} \\\n",
    "{gcs_output_path}\n"
   ]
  },
  {
   "cell_type": "code",
   "execution_count": null,
   "metadata": {},
   "outputs": [],
   "source": [
    "!aws s3 cp --recursive {ec2_output_path}  {s3_output_path} "
   ]
  },
  {
   "cell_type": "code",
   "execution_count": null,
   "metadata": {},
   "outputs": [],
   "source": [
    "end = datetime.datetime.now()\n",
    "elapsed = end - start\n",
    "print(elapsed)"
   ]
  },
  {
   "cell_type": "code",
   "execution_count": null,
   "metadata": {
    "collapsed": true
   },
   "outputs": [],
   "source": []
  },
  {
   "cell_type": "code",
   "execution_count": null,
   "metadata": {
    "collapsed": true
   },
   "outputs": [],
   "source": []
  },
  {
   "cell_type": "code",
   "execution_count": null,
   "metadata": {
    "collapsed": true
   },
   "outputs": [],
   "source": []
  },
  {
   "cell_type": "code",
   "execution_count": null,
   "metadata": {
    "collapsed": true
   },
   "outputs": [],
   "source": []
  }
 ],
 "metadata": {
  "kernelspec": {
   "display_name": "Python 35",
   "language": "python",
   "name": "python35"
  },
  "language_info": {
   "codemirror_mode": {
    "name": "ipython",
    "version": 3
   },
   "file_extension": ".py",
   "mimetype": "text/x-python",
   "name": "python",
   "nbconvert_exporter": "python",
   "pygments_lexer": "ipython3",
   "version": "3.5.4"
  }
 },
 "nbformat": 4,
 "nbformat_minor": 2
}
