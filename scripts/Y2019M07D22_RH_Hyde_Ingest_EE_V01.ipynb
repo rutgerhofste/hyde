{
 "cells": [
  {
   "cell_type": "code",
   "execution_count": 1,
   "metadata": {},
   "outputs": [],
   "source": [
    "\"\"\" Ingest the Hyde geotiff data into Google Earth Engine. \n",
    "-------------------------------------------------------------------------------\n",
    "\n",
    "Author: Rutger Hofste\n",
    "Date: 20190722\n",
    "Kernel: python35\n",
    "Docker: rutgerhofste/gisdocker:ubuntu16.04\n",
    "\n",
    "\"\"\"\n",
    "\n",
    "TESTING = 0\n",
    "\n",
    "SCRIPT_NAME = \"Y2019M07D22_RH_Hyde_Ingest_EE_V01\"\n",
    "OUTPUT_VERSION = 1\n",
    "\n",
    "NODATA_VALUE = -9999\n",
    "\n",
    "GCS_BUCKET = \"aqueduct30_v01\"\n",
    "PREFIX = \"Y2019M07D22_RH_Hyde_Convert_Geotiff_V01\"\n",
    "\n",
    "EE_OUTPUT_PATH = \"projects/WRI-Aquaduct/Y2019M07D22_RH_Hyde_Ingest_EE_V01\"\n",
    "\n",
    "EXTRA_PARAMS = {\"script_name\":SCRIPT_NAME,\n",
    "                \"output_version\":OUTPUT_VERSION,\n",
    "                \"scenario\":\"Baseline estimate\",\n",
    "                \"github\":\"https://github.com/rutgerhofste/hyde\",\n",
    "                \"ingested_by\":\"Rutger Hofste\"}\n",
    "\n",
    "URL_POP_METADATA = \"https://raw.githubusercontent.com/rutgerhofste/hyde/master/data/pop.csv\"\n",
    "URL_LU_METADATA = \"https://raw.githubusercontent.com/rutgerhofste/hyde/master/data/lu.csv\"\n"
   ]
  },
  {
   "cell_type": "code",
   "execution_count": 2,
   "metadata": {},
   "outputs": [
    {
     "name": "stdout",
     "output_type": "stream",
     "text": [
      "Y2019M08D15 UTC 16:59\n"
     ]
    },
    {
     "data": {
      "text/plain": [
       "'3.6.5 |Anaconda, Inc.| (default, Mar 29 2018, 18:21:58) \\n[GCC 7.2.0]'"
      ]
     },
     "execution_count": 2,
     "metadata": {},
     "output_type": "execute_result"
    }
   ],
   "source": [
    "import time, datetime, sys\n",
    "dateString = time.strftime(\"Y%YM%mD%d\")\n",
    "timeString = time.strftime(\"UTC %H:%M\")\n",
    "start = datetime.datetime.now()\n",
    "print(dateString,timeString)\n",
    "sys.version"
   ]
  },
  {
   "cell_type": "code",
   "execution_count": 3,
   "metadata": {},
   "outputs": [],
   "source": [
    "import os\n",
    "import subprocess\n",
    "from tqdm import tqdm\n",
    "import pandas as pd\n",
    "from google.cloud import storage"
   ]
  },
  {
   "cell_type": "code",
   "execution_count": 4,
   "metadata": {
    "collapsed": true
   },
   "outputs": [],
   "source": [
    "os.environ[\"GOOGLE_APPLICATION_CREDENTIALS\"] = \"/.google.json\""
   ]
  },
  {
   "cell_type": "code",
   "execution_count": 5,
   "metadata": {
    "collapsed": true
   },
   "outputs": [],
   "source": [
    "df_pop = pd.read_csv(URL_POP_METADATA)"
   ]
  },
  {
   "cell_type": "code",
   "execution_count": 6,
   "metadata": {
    "collapsed": true
   },
   "outputs": [],
   "source": [
    "df_lu = pd.read_csv(URL_LU_METADATA)"
   ]
  },
  {
   "cell_type": "code",
   "execution_count": 7,
   "metadata": {},
   "outputs": [],
   "source": [
    "def numeric_to_string(year):\n",
    "    \"\"\"\n",
    "    Convert numeric year to string\n",
    "    \"\"\"\n",
    "    if year < 0 :\n",
    "          yearstring = \"{}BC\".format(year*-1)\n",
    "    elif year >= 0:\n",
    "          yearstring = \"{}AD\".format(year)\n",
    "    else:\n",
    "          raise\n",
    "    return yearstring\n",
    "\n",
    "\n",
    "\n",
    "def get_years_dict():\n",
    "    Y_BCE = list(range(-10000,0,1000))\n",
    "    Y_BCE_1700 = list(range(0,1700,100))\n",
    "    Y_1700_2000 = list(range(1700,2000,10))\n",
    "    Y_2000_2017 = list(range(2000,2017+1,1))\n",
    "    years = Y_BCE + Y_BCE_1700 + Y_1700_2000 + Y_2000_2017\n",
    "    year_strings = map(numeric_to_string,years)\n",
    "    years_dict =  dict(zip(year_strings ,years))\n",
    "    return years_dict\n",
    "\n",
    "\n",
    "def dictionary_to_EE_upload_command(d):\n",
    "    \"\"\" Convert a dictionary to command that can be appended to upload command\n",
    "    -------------------------------------------------------------------------------\n",
    "     \n",
    "    \n",
    "    Args:\n",
    "        d (dictionary) : Dictionary with metadata. nodata_value                         \n",
    "    \n",
    "    Returns:\n",
    "        command (string) : string to append to upload string.    \n",
    "    \n",
    "    \"\"\"\n",
    "    command = \"\"\n",
    "    for key, value in d.items():            \n",
    "        if key == \"nodata_value\":\n",
    "            command = command + \" --nodata_value={}\".format(value)\n",
    "        else:\n",
    "            \n",
    "            if isinstance(value, str):\n",
    "                command = command + \" -p '(string){}={}'\".format(key,value)\n",
    "            else:\n",
    "                command = command + \" -p '(number){}={}'\".format(key,value)\n",
    "                \n",
    "    return command\n",
    "\n",
    "\n",
    "\n",
    "def get_command(structure,filename,description,year,year_string):\n",
    "        if structure == \"pop\":\n",
    "            filename = \"{}_{}.tif\".format(filename,year_string)\n",
    "        elif structure == \"lu\":\n",
    "            filename = \"{}{}.tif\".format(filename,year_string)\n",
    "        else:\n",
    "            raise\n",
    "        params = {\"year\":year,\n",
    "                  \"year_string\":year_string,\n",
    "                  \"description\":description,\n",
    "                  \"type\":row.filename}\n",
    "        params = {**params , **EXTRA_PARAMS}\n",
    "        params[\"nodata_value\"] = NODATA_VALUE\n",
    "        meta_command = dictionary_to_EE_upload_command(params) \n",
    "        \n",
    "        output_ic_name = \"hyde321v01\"\n",
    "        base, extension = filename.split(\".\")\n",
    "        image_name = base\n",
    "        destination_path = \"{}/output_V{:02d}/{}/{}\".format(EE_OUTPUT_PATH,OUTPUT_VERSION,output_ic_name,image_name)\n",
    "        source_path = \"gs://aqueduct30_v01/{}//output_V01/output_V01/{}\".format(PREFIX,filename)\n",
    "        command = \"/opt/anaconda3/envs/python35/bin/earthengine upload image --asset_id={} {} {}\".format(destination_path,meta_command,source_path)\n",
    "\n",
    "        return command"
   ]
  },
  {
   "cell_type": "code",
   "execution_count": 8,
   "metadata": {},
   "outputs": [],
   "source": [
    "commands = []\n",
    "years_dict = get_years_dict()\n",
    "for year_string, year in years_dict.items():\n",
    "    for description, row in df_pop.iterrows():\n",
    "        structure = \"pop\"\n",
    "        filename = row.filename\n",
    "        description = row.description\n",
    "        command = get_command(structure,filename,description,year,year_string)\n",
    "        commands.append(command)\n",
    "\n",
    "        \n",
    "    for description, row in df_lu.iterrows():\n",
    "        structure = \"lu\"\n",
    "        filename = row.filename\n",
    "        description = row.description\n",
    "        command = get_command(structure,filename,description,year,year_string)\n",
    "        commands.append(command)"
   ]
  },
  {
   "cell_type": "code",
   "execution_count": 9,
   "metadata": {
    "collapsed": true
   },
   "outputs": [],
   "source": [
    "if TESTING:\n",
    "    commands = commands[0:3]"
   ]
  },
  {
   "cell_type": "code",
   "execution_count": null,
   "metadata": {},
   "outputs": [
    {
     "name": "stderr",
     "output_type": "stream",
     "text": [
      " 26%|██▌       | 328/1275 [16:06<49:03,  3.11s/it] "
     ]
    }
   ],
   "source": [
    "for command in tqdm(commands):\n",
    "    subprocess.check_output(command,shell=True)\n",
    "    "
   ]
  },
  {
   "cell_type": "code",
   "execution_count": null,
   "metadata": {},
   "outputs": [],
   "source": [
    "end = datetime.datetime.now()\n",
    "elapsed = end - start\n",
    "print(elapsed)"
   ]
  },
  {
   "cell_type": "code",
   "execution_count": null,
   "metadata": {
    "collapsed": true
   },
   "outputs": [],
   "source": []
  }
 ],
 "metadata": {
  "kernelspec": {
   "display_name": "Python 36",
   "language": "python",
   "name": "python36"
  },
  "language_info": {
   "codemirror_mode": {
    "name": "ipython",
    "version": 3
   },
   "file_extension": ".py",
   "mimetype": "text/x-python",
   "name": "python",
   "nbconvert_exporter": "python",
   "pygments_lexer": "ipython3",
   "version": "3.6.5"
  }
 },
 "nbformat": 4,
 "nbformat_minor": 2
}
