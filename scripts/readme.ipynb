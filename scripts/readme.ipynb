{
 "cells": [
  {
   "cell_type": "markdown",
   "metadata": {},
   "source": [
    "## Script Order\n",
    "\n",
    "\n",
    "1. **Y2019M07D22_RH_Hyde_Convert_Geotiff_V01**  \n",
    "    Convert hyde asc rasters to geotiff.\n",
    "1. **Y2019M07D22_RH_Hyde_Ingest_EE_V01**  \n",
    "    Ingest the yde geotiff data into Google Earth Engine. "
   ]
  },
  {
   "cell_type": "code",
   "execution_count": null,
   "metadata": {
    "collapsed": true
   },
   "outputs": [],
   "source": []
  }
 ],
 "metadata": {
  "kernelspec": {
   "display_name": "Python 35",
   "language": "python",
   "name": "python35"
  },
  "language_info": {
   "codemirror_mode": {
    "name": "ipython",
    "version": 3
   },
   "file_extension": ".py",
   "mimetype": "text/x-python",
   "name": "python",
   "nbconvert_exporter": "python",
   "pygments_lexer": "ipython3",
   "version": "3.5.4"
  }
 },
 "nbformat": 4,
 "nbformat_minor": 2
}
